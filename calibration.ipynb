{
 "cells": [
  {
   "cell_type": "code",
   "execution_count": null,
   "metadata": {},
   "outputs": [],
   "source": [
    "from jax import config\n",
    "#config.update(\"jax_enable_x64\", True)\n",
    "config.update('jax_platform_name', 'cpu')\n",
    "\n",
    "import numpy as np\n",
    "import matplotlib.pyplot as plt\n",
    "import os\n",
    "from glob import glob\n",
    "from tqdm.notebook import tqdm\n",
    "\n",
    "import matplotlib\n",
    "import seaborn as sns\n",
    "\n",
    "from scipy.signal import detrend\n",
    "import pandas as pd\n",
    "import json\n",
    "\n",
    "import jax\n",
    "import jax.numpy as jnp\n",
    "import jax.random as jr\n",
    "import jax.nn as jnn\n",
    "import optax\n",
    "import arviz as az\n",
    "import einops\n",
    "import tensorflow_probability.substrates.jax as tfp\n",
    "tfd = tfp.distributions "
   ]
  },
  {
   "cell_type": "code",
   "execution_count": null,
   "metadata": {},
   "outputs": [],
   "source": [
    "key = jr.PRNGKey(0)"
   ]
  },
  {
   "cell_type": "code",
   "execution_count": null,
   "metadata": {},
   "outputs": [],
   "source": [
    "omega = jnp.pi*2*0.05"
   ]
  },
  {
   "cell_type": "code",
   "execution_count": null,
   "metadata": {},
   "outputs": [],
   "source": [
    "#dtype = jnp.float64\n",
    "dtype = jnp.float32\n",
    "m = .325\n",
    "m1 = 2048\n",
    "m2 = 2048"
   ]
  },
  {
   "cell_type": "code",
   "execution_count": null,
   "metadata": {},
   "outputs": [],
   "source": [
    "T_0 = 25\n",
    "r_T_0 = 0.971e3\n",
    "v = 1026.16e-6\n",
    "fat_oil = True\n",
    "if fat_oil:\n",
    "    v = 30000e-6\n",
    "\n",
    "# our experiments\n",
    "T = 21\n",
    "a = 9.2e-4\n",
    "b = 4.5e-7\n",
    "nn = v*r_T_0/(1+a*(T-T_0)+b*(T-T_0)**2)\n",
    "nn"
   ]
  },
  {
   "cell_type": "code",
   "execution_count": null,
   "metadata": {},
   "outputs": [],
   "source": [
    "tau = 0.5*m\n",
    "tau"
   ]
  },
  {
   "cell_type": "code",
   "execution_count": null,
   "metadata": {},
   "outputs": [],
   "source": [
    "y = np.load('data/calibration/y.npy')\n",
    "x = np.load('data/calibration/x.npy')\n",
    "ra = np.load('data/calibration/radius.npy')\n",
    "locs = np.load('data/calibration/locs.npy')\n",
    "ids2 = np.load('data/calibration/ids2.npy')\n",
    "n_data = x.shape[0]\n",
    "t = jnp.linspace(0,30,y.shape[1])"
   ]
  },
  {
   "cell_type": "code",
   "execution_count": null,
   "metadata": {},
   "outputs": [],
   "source": [
    "from matplotlib.ticker import MaxNLocator\n",
    "scale = 0.7e4\n",
    "#nn = 1.000074433378914\n",
    "@tfd.JointDistributionCoroutineAutoBatched\n",
    "def model():\n",
    "\n",
    "    #alpha = yield tfd.Sample(tfd.Normal(40.,1.),(n_data,),name='alpha')\n",
    "    #alpha_mean = yield tfd.Normal(dtype(40.),dtype(2.),name='alpha_mean')\n",
    "    #alpha_std = yield tfd.HalfNormal(dtype(1.),name='alpha_std')\n",
    "    #alpha_z = yield tfd.Sample(tfd.Normal(dtype(0.),dtype(1.)),(n_data,),name='alpha_z')\n",
    "    #alpha = alpha_mean+alpha_std*alpha_z\n",
    "    alpha = yield tfd.Normal(dtype(40.),dtype(2.),name='alpha')\n",
    "    #mag = yield tfd.Sample(tfd.Normal(0.7e4,1e1),(n_data,),name='magnetization')\n",
    "\n",
    "    sigma = yield tfd.InverseGamma(dtype(5.),dtype(.5),name='sigma')\n",
    "    #sigma = yield tfd.HalfNormal(dtype(1e-3),name='sigma')\n",
    "\n",
    "    #T = yield tfd.Normal(21,2,name='temperature')\n",
    "    #nn = 1026.16e-6*0.971e3/(1+9.2e-4*(T-25)+4.5e-7*(T-25)**2)\n",
    "    \n",
    "    offset = yield tfd.Sample(tfd.Normal(dtype(0),dtype(0.1)),(n_data,),name='offset')\n",
    "    slope = yield tfd.Sample(tfd.Normal(dtype(0),dtype(0.1)),(n_data,),name='slope')\n",
    "    phase = yield tfd.Sample(tfd.Normal(dtype(0),dtype(0.1)),(n_data,),name='phase')\n",
    "\n",
    "    mean_r = yield tfd.Normal(5.8,1.,name='mean_r')\n",
    "    sigma_r = yield tfd.InverseGamma(2.,0.5,name='sigma_r')\n",
    "    #sigma_r = yield tfd.HalfNormal(0.2,name='sigma_r')\n",
    "    acc_r = yield tfd.Sample(tfd.Normal(mean_r,sigma_r),(n_data,),name='acc_r')\n",
    "    #acc_r = yield tfd.Sample(tfd.Normal(5.5,0.5),(n_data,),name='acc_r')\n",
    "    \n",
    "    r = yield tfd.Normal(acc_r,tau,name='r')\n",
    "\n",
    "    f = scale*jnn.softplus(alpha)\n",
    "    C = (2/(9*nn*omega)*(acc_r*1e-6)**2*f)[...,None]\n",
    "    # +offset[...,None]+slope[...,None]*t[None,...]\n",
    "    likelihood = yield tfd.Normal(10*1e6*(-C*jnp.cos(omega*t+phase[...,None])+C)+offset[...,None]+slope[...,None]*t[None,...],sigma,name='likelihood')\n",
    "\n",
    "fig,ax = plt.subplots(figsize=(15,5))\n",
    "ss = np.array(model.sample(seed=key).likelihood)\n",
    "for i in range(ss.shape[0]):\n",
    "    _ = plt.plot(t,ss[i],color='crimson',alpha=0.5,label='model')\n",
    "    _ = plt.plot(t,y[i],color='teal',alpha=0.3,label='data')\n",
    "plt.legend(['model','data'],fontsize=20)\n",
    "ax.set_xlabel('t [s]',fontsize=20)\n",
    "ax.set_ylabel(r'x(t) [$\\mu m$]',fontsize=20)\n",
    "ax.tick_params(axis='both', which='major', labelsize=20)\n",
    "format_fn = lambda x,y: x/10\n",
    "ax.yaxis.set_major_formatter(format_fn)\n",
    "ax.yaxis.set_major_locator(MaxNLocator(integer=True))\n",
    "fig.savefig('results/calibration_prior.png',dpi=300,bbox_inches='tight')"
   ]
  },
  {
   "cell_type": "code",
   "execution_count": null,
   "metadata": {},
   "outputs": [],
   "source": [
    "#target = model.experimental_pin(likelihood=y,likelihood_sim=amp_flat)\n",
    "target = model.experimental_pin(likelihood=y,r=ra)\n",
    "#target = model.experimental_pin(likelihood=y)\n",
    "init_samples = model.sample(seed=key)\n",
    "bijector = target.experimental_default_event_space_bijector()"
   ]
  },
  {
   "cell_type": "code",
   "execution_count": null,
   "metadata": {},
   "outputs": [],
   "source": [
    "state = init_samples[:-2]\n",
    "optimizer = optax.chain(\n",
    "    optax.zero_nans(),\n",
    "    optax.scale_by_adam(b1=0.9, b2=0.999, eps=1e-8),\n",
    "    optax.scale(1e-1)\n",
    ")\n",
    "\n",
    "opt_state = optimizer.init(state)\n",
    "compute_loss = jax.jit(lambda params: target.log_prob(params))\n",
    "losses = []\n",
    "for _ in (pbar := tqdm(range(100))):\n",
    "    loss,grads = jax.value_and_grad(compute_loss)(state)\n",
    "    updates, opt_state = optimizer.update(grads, opt_state)\n",
    "    state = optax.apply_updates(state, updates)\n",
    "    pbar.set_description(f'{loss}')\n",
    "    losses.append(loss)\n",
    "plt.plot(losses)"
   ]
  },
  {
   "cell_type": "code",
   "execution_count": null,
   "metadata": {},
   "outputs": [],
   "source": [
    "num_chains = 4\n",
    "num_burnin=2000\n",
    "num_steps= 2000+num_burnin\n",
    "num_adaptation = 2000\n",
    "step_size = 1.\n",
    "num_leapfrog = 300\n",
    "\n",
    "# num_chains = 4\n",
    "# num_burnin=15000\n",
    "# num_steps= 15000+num_burnin\n",
    "# num_adaptation = 20000\n",
    "# step_size = 1.\n",
    "# num_leapfrog = 50\n",
    "\n",
    "step_sizes = [jnp.ones((num_chains,*i.shape))*step_size for i in init_samples[:-2]]\n",
    "\n",
    "@jax.jit\n",
    "def run_chain(key, state):\n",
    "\n",
    "    hmc = tfp.mcmc.NoUTurnSampler(\n",
    "       target_log_prob_fn=target.unnormalized_log_prob,\n",
    "       step_size=step_sizes)\n",
    "\n",
    "    # hmc = tfp.mcmc.HamiltonianMonteCarlo(\n",
    "    #     target_log_prob_fn=target.unnormalized_log_prob,\n",
    "    #     step_size=step_sizes,\n",
    "    #     num_leapfrog_steps=num_leapfrog\n",
    "    # )\n",
    "\n",
    "\n",
    "    hmc = tfp.mcmc.TransformedTransitionKernel(\n",
    "        hmc, bijector)\n",
    "    hmc = tfp.mcmc.DualAveragingStepSizeAdaptation(\n",
    "        hmc,\n",
    "        num_adaptation_steps=int(num_adaptation),\n",
    "        target_accept_prob=0.9,\n",
    "        reduce_fn=tfp.math.reduce_log_harmonic_mean_exp)\n",
    "\n",
    "    return tfp.mcmc.sample_chain(num_steps,\n",
    "    current_state=state,\n",
    "    kernel=hmc,\n",
    "    trace_fn=lambda _, results: results.inner_results.inner_results,\n",
    "    seed=key)\n",
    "\n",
    "\n",
    "#states_, log_probs_ = run_chain(key,jax.tree_map(lambda x: jnp.ones_like(x),model.sample(num_chains,seed=jr.split(key)[0])[:-2]))\n",
    "states_, log_probs_ = run_chain(key,jax.tree_map(lambda x: jnp.squeeze(jnp.tile(x[None,...],(num_chains,1))),state))\n",
    "log_probs = jax.tree_map(lambda x: x[num_burnin:,:],log_probs_)\n",
    "#log_probs = log_probs_.proposed_results.target_log_prob[num_burnin:]\n",
    "states = jax.tree_map(lambda x: x[num_burnin:,:],states_)"
   ]
  },
  {
   "cell_type": "code",
   "execution_count": null,
   "metadata": {},
   "outputs": [],
   "source": [
    "trace = az.from_dict(\n",
    "    posterior=jax.tree_map(lambda  x: jnp.swapaxes(x,0,1),states._asdict()),\n",
    "    sample_stats={'log_likelihood':jnp.swapaxes(log_probs.target_log_prob,0,1),\n",
    "                'energy':jnp.swapaxes(log_probs.energy,0,1),\n",
    "                'diverging':jnp.swapaxes(log_probs.has_divergence,0,1)},)"
   ]
  },
  {
   "cell_type": "code",
   "execution_count": null,
   "metadata": {},
   "outputs": [],
   "source": [
    "#az.plot_trace(trace)\n",
    "fig = plt.figure()\n",
    "_ = az.plot_trace(trace,combined=True)\n",
    "fig.tight_layout()"
   ]
  },
  {
   "cell_type": "code",
   "execution_count": null,
   "metadata": {},
   "outputs": [],
   "source": [
    "plt.hist(np.array(states.phase.flatten()))"
   ]
  },
  {
   "cell_type": "code",
   "execution_count": null,
   "metadata": {},
   "outputs": [],
   "source": [
    "for i in np.unique(locs):\n",
    "    l_mask = locs==i\n",
    "    _ = plt.hist(np.rad2deg(states.phase[...,l_mask].flatten()),bins=100,alpha=0.5)\n",
    "#plt.axvspan(-0.5,0.5,alpha=0.5)"
   ]
  },
  {
   "cell_type": "code",
   "execution_count": null,
   "metadata": {},
   "outputs": [],
   "source": [
    "(az.summary(trace)['r_hat'].values>1.1).sum()"
   ]
  },
  {
   "cell_type": "code",
   "execution_count": null,
   "metadata": {},
   "outputs": [],
   "source": [
    "def gen_samples(params):\n",
    "    dists, samps = model.sample_distributions(seed=jr.PRNGKey(0),\n",
    "                                        value=params + (None,))\n",
    "    return samps\n",
    "\n",
    "samps = jax.vmap(jax.vmap(gen_samples))(states)"
   ]
  },
  {
   "cell_type": "code",
   "execution_count": null,
   "metadata": {},
   "outputs": [],
   "source": [
    "log_liks = np.stack([tfd.Normal(samps.likelihood[i],samps.sigma[i,:,None,None]).log_prob(y[None,...]) for i in tqdm(range(samps.likelihood.shape[0]))])"
   ]
  },
  {
   "cell_type": "code",
   "execution_count": null,
   "metadata": {},
   "outputs": [],
   "source": [
    "_ = plt.plot(y.T,color='crimson',alpha=0.1)\n",
    "_ = plt.plot(samps.likelihood.mean(axis=(0,1)).T,color='teal',alpha=0.1) "
   ]
  },
  {
   "cell_type": "code",
   "execution_count": null,
   "metadata": {},
   "outputs": [],
   "source": [
    "batch_size = 128\n",
    "likelihood = []\n",
    "for sub in tqdm(range(0,states.alpha.shape[0],batch_size)):\n",
    "    s1 = sub\n",
    "    s2 = sub+batch_size\n",
    "    f = scale*jnn.softplus(states.alpha[s1:s2])\n",
    "    C = (2/(9*nn*omega)*(states.acc_r[s1:s2]*1e-6)**2*f[...,None])[...,None]\n",
    "    # +offset[...,None]+slope[...,None]*t[None,...]\n",
    "    likelihood.append(np.array(10*1e6*(-C*jnp.cos(omega*t+states.phase[s1:s2][...,None])+C)+states.offset[s1:s2][...,None]+states.slope[s1:s2][...,None]*t[None,...]))\n",
    "likelihood = np.concatenate(likelihood)"
   ]
  },
  {
   "cell_type": "code",
   "execution_count": null,
   "metadata": {},
   "outputs": [],
   "source": [
    "l = len(y)\n",
    "ncols = 4\n",
    "nrows = int(np.ceil(l/ncols))\n",
    "errs = []\n",
    "fig,ax = plt.subplots(nrows,ncols,figsize=(15,15),sharex=True,sharey=True)\n",
    "for idx,(i,j,k,kk) in enumerate(zip(likelihood.mean(axis=(0,1)),y,ra,states.acc_r.mean(axis=(0,1)))):\n",
    "    ax.ravel()[idx].plot(t,j,color='black')\n",
    "    ax.ravel()[idx].plot(t,i,color='crimson',alpha=0.5)\n",
    "    low = tfd.Normal(likelihood[:,:,idx],states.sigma[...,None]).quantile(0.05).mean(axis=(0,1))\n",
    "    up = tfd.Normal(likelihood[:,:,idx],states.sigma[...,None]).quantile(0.95).mean(axis=(0,1))\n",
    "    ax.ravel()[idx].fill_between(t,low,up,color='crimson',alpha=0.3)\n",
    "    err = np.round(k,10)-np.round(kk,10)\n",
    "    errs.append(err)\n",
    "    ax.ravel()[idx].set_title('{} | {:.2f} -> {:.2f} :: {:.2f}'.format(ids2[idx],np.round(k,2),np.round(kk,2),err))\n",
    "errs = np.array(errs)\n",
    "fig.tight_layout()"
   ]
  },
  {
   "cell_type": "code",
   "execution_count": null,
   "metadata": {},
   "outputs": [],
   "source": [
    "np.rad2deg(states.phase.mean())"
   ]
  },
  {
   "cell_type": "code",
   "execution_count": null,
   "metadata": {},
   "outputs": [],
   "source": [
    "fig,ax = plt.subplots(figsize=(5,5))\n",
    "ax.hist(errs/0.325)\n",
    "ax.set_xlabel('Estimated error in pixels')"
   ]
  },
  {
   "cell_type": "code",
   "execution_count": null,
   "metadata": {},
   "outputs": [],
   "source": [
    "print(np.abs(errs/0.325).mean())"
   ]
  },
  {
   "cell_type": "code",
   "execution_count": null,
   "metadata": {},
   "outputs": [],
   "source": [
    "l = len(y)\n",
    "ncols = 4\n",
    "nrows = 5\n",
    "errs = []\n",
    "fig,ax = plt.subplots(nrows,ncols,figsize=(15,10),sharex=True,sharey=True)\n",
    "for idx,(i,j,k,kk) in enumerate(zip(likelihood.mean(axis=(0,1)),y,ra,states.acc_r.mean(axis=(0,1)))):\n",
    "    ax.ravel()[idx].plot(t,j,color='black')\n",
    "    ax.ravel()[idx].plot(t,i,color='crimson',alpha=0.5)\n",
    "    low = tfd.Normal(likelihood[:,:,idx],states.sigma[...,None]).quantile(0.05).mean(axis=(0,1))\n",
    "    up = tfd.Normal(likelihood[:,:,idx],states.sigma[...,None]).quantile(0.95).mean(axis=(0,1))\n",
    "    ax.ravel()[idx].fill_between(t,low,up,color='crimson',alpha=0.3)\n",
    "    \n",
    "    ax.ravel()[idx].tick_params(axis='both', which='major', labelsize=20)\n",
    "    format_fn = lambda x,y: x/10\n",
    "    ax.ravel()[idx].yaxis.set_major_formatter(format_fn)\n",
    "    ax.ravel()[idx].yaxis.set_major_locator(MaxNLocator(integer=True))\n",
    "    if idx%4==0:\n",
    "        ax.ravel()[idx].set_ylabel(r'x(t) [$\\mu m$]',fontsize=20)\n",
    "    if idx>15:\n",
    "        ax.ravel()[idx].set_xlabel('t [s]',fontsize=20)\n",
    "    if idx>18:\n",
    "        break\n",
    "errs = np.array(errs)\n",
    "fig.tight_layout()\n",
    "fig.savefig('results/calibration_ppc.png',dpi=300,bbox_inches='tight')"
   ]
  },
  {
   "cell_type": "code",
   "execution_count": null,
   "metadata": {},
   "outputs": [],
   "source": [
    "rad_acc = einops.rearrange(np.array(states.acc_r),'i j k -> (i j) k')\n",
    "co = plt.colormaps['jet']\n",
    "for i in range(states.acc_r.shape[-1]):\n",
    "    plt.hist(rad_acc[...,i],alpha=0.3,bins=30,color=co(i/rad_acc.shape[-1]))\n",
    "    plt.axvline(ra[i],color=co(i/rad_acc.shape[-1]))\n",
    "    plt.plot([ra[i],rad_acc[...,i].mean()],[5000+50*i,5000+50*i],color='black',linestyle='--')\n",
    "    plt.scatter([ra[i],rad_acc[...,i].mean()],[5000+50*i,5000+50*i],color='black',marker='|')"
   ]
  },
  {
   "cell_type": "code",
   "execution_count": null,
   "metadata": {},
   "outputs": [],
   "source": [
    "rad_info = pd.DataFrame(rad_acc[::1000])\n",
    "ra_df = pd.DataFrame({'variable':np.arange(ra.shape[0]),'value':ra})"
   ]
  },
  {
   "cell_type": "code",
   "execution_count": null,
   "metadata": {},
   "outputs": [],
   "source": [
    "fig,ax = plt.subplots(figsize=(15,5))\n",
    "sns.violinplot(data=rad_info.melt(),x='variable',y='value')\n",
    "sns.swarmplot(data=ra_df,x='variable',y='value',color=sns.color_palette('colorblind')[1],s=15,label='data',marker='d')\n",
    "ax.get_legend().remove()"
   ]
  }
 ],
 "metadata": {
  "kernelspec": {
   "display_name": "wintermute",
   "language": "python",
   "name": "python3"
  },
  "language_info": {
   "codemirror_mode": {
    "name": "ipython",
    "version": 3
   },
   "file_extension": ".py",
   "mimetype": "text/x-python",
   "name": "python",
   "nbconvert_exporter": "python",
   "pygments_lexer": "ipython3",
   "version": "3.8.5"
  }
 },
 "nbformat": 4,
 "nbformat_minor": 2
}
