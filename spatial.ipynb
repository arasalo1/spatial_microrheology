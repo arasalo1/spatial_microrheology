{
 "cells": [
  {
   "cell_type": "code",
   "execution_count": 7,
   "metadata": {},
   "outputs": [],
   "source": [
    "import numpy as np\n",
    "import arviz as az\n",
    "import matplotlib\n",
    "import matplotlib.pyplot as plt\n",
    "\n",
    "from glob import glob\n",
    "from tqdm.notebook import tqdm\n",
    "import os\n",
    "import json\n",
    "import pandas as pd\n",
    "from cmdstanpy import cmdstan_path, CmdStanModel\n",
    "import cv2\n",
    "import json"
   ]
  },
  {
   "cell_type": "code",
   "execution_count": null,
   "metadata": {},
   "outputs": [],
   "source": [
    "def fit_model(data_path,outpath,path):\n",
    "    print(os.path.join(path,'models/hier_s_warped.stan'))\n",
    "    model = CmdStanModel(stan_file=os.path.join(path,'models/hier_s_warped.stan'),\n",
    "                        stanc_options={'allow_undefined':True},\n",
    "                        user_header=os.path.join(path,'models/add_iter.hpp'))\n",
    "    fit = model.sample(data=data_path,parallel_chains=4,chains=4,\n",
    "                    show_progress='notebook',adapt_delta=0.99,max_treedepth=15)\n",
    "    print(fit.diagnose())\n",
    "\n",
    "    draws = fit.draws_pd()\n",
    "\n",
    "    out = os.path.join(path,outpath)\n",
    "    if not os.path.exists(out):\n",
    "        os.mkdir(out)\n",
    "\n",
    "    draws.to_csv(os.path.join(out,'fit.csv'))"
   ]
  },
  {
   "cell_type": "markdown",
   "metadata": {},
   "source": [
    "## MCMC sampling\n",
    "\n",
    "Running all takes hours.\n",
    "8 hours on AMD Ryzen 7 5800X."
   ]
  },
  {
   "cell_type": "code",
   "execution_count": null,
   "metadata": {},
   "outputs": [],
   "source": [
    "full_path = '/home/lab/projects/spatial'\n",
    "paths = glob(os.path.join(full_path,'data/spatial_data/raw/*.json'))\n",
    "\n",
    "out = 'results/fits'\n",
    "for idx,path in enumerate(paths):\n",
    "    data_path = os.path.split(path)[1]\n",
    "    outpath = os.path.join(out,'fit_{}'.format(data_path.split('.')[0]))\n",
    "    print(data_path,outpath)\n",
    "    fit_model(path,outpath,full_path)"
   ]
  },
  {
   "cell_type": "markdown",
   "metadata": {},
   "source": [
    "### Filter relevant parameters for the visualizations"
   ]
  },
  {
   "cell_type": "code",
   "execution_count": null,
   "metadata": {},
   "outputs": [],
   "source": [
    "# caf, control, repeat, incubation\n",
    "pairs = [['231104_CAF','231104_Contr',1,1],\n",
    "        ['231105_CAF','231105_Contr',1,2],\n",
    "        ['231106_CAF','231106_Contr',1,3],\n",
    "        ['240723_CAF','240723_Contr',2,1],\n",
    "        ['240724_CAF','240724_Contr',2,2],\n",
    "        ['240725_CAF','240725_Contr',2,3],\n",
    "        ['240813_CAF','240813_Contr',3,1],\n",
    "        ['240814_CAF','240814_Contr',3,2],\n",
    "        ['240815_CAF','240815_Contr',3,3],\n",
    "        ]"
   ]
  },
  {
   "cell_type": "code",
   "execution_count": null,
   "metadata": {},
   "outputs": [],
   "source": [
    "fits = []\n",
    "fgs = []\n",
    "fphis = []\n",
    "for i,j,repeat,incu in pairs:\n",
    "    date = i.split('_')[0]\n",
    "    print(i,j)\n",
    "    fit_treat = pd.read_csv(os.path.join(full_path,'results','fits',f'fit_{i}','fit.csv'))\n",
    "    fit_treat['condition'] = 'CAF'\n",
    "    fit_contr = pd.read_csv(os.path.join(full_path,'results','fits',f'fit_{j}','fit.csv'))\n",
    "    fit_contr['condition'] = 'control'\n",
    "\n",
    "    tmp = fit_treat.filter(regex='F_g').mean(axis=0).to_frame()\n",
    "    tmp['condition'] = 'CAF'\n",
    "    tmp['date'] = date\n",
    "    tmp['incubation'] = incu\n",
    "    tmp['repetition'] = repeat\n",
    "    tmp2 = fit_contr.filter(regex='F_g').mean(axis=0).to_frame()\n",
    "    tmp2['condition'] = 'control'\n",
    "    tmp2['date'] = date\n",
    "    tmp2['incubation'] = incu\n",
    "    tmp2['repetition'] = repeat\n",
    "\n",
    "    tmp3 = fit_treat.filter(regex='F_phi').mean(axis=0).to_frame()\n",
    "    tmp3['condition'] = 'CAF'\n",
    "    tmp3['date'] = date\n",
    "    tmp3['incubation'] = incu\n",
    "    tmp3['repetition'] = repeat\n",
    "    tmp4 = fit_contr.filter(regex='F_phi').mean(axis=0).to_frame()\n",
    "    tmp4['condition'] = 'control'\n",
    "    tmp4['date'] = date\n",
    "    tmp4['incubation'] = incu\n",
    "    tmp4['repetition'] = repeat\n",
    "    fgs.append(pd.concat([tmp,tmp2]))\n",
    "    fphis.append(pd.concat([tmp3,tmp4]))\n",
    "    fit = pd.concat([fit_treat.filter(regex='alpha_g$|alpha_g_sigma$|alpha_phi$|alpha_phi_sigma$|offset_g$|offset_phi$|offset_g_std$|offset_phi_std$|condition'),\n",
    "                fit_contr.filter(regex='alpha_g$|alpha_g_sigma$|alpha_phi$|alpha_phi_sigma$|offset_g$|offset_phi$|offset_g_std$|offset_phi_std$|condition')])\n",
    "    fit['date'] = date\n",
    "    fit['repetition'] = repeat\n",
    "    fit['incubation'] = incu\n",
    "    fits.append(fit)\n",
    "\n",
    "fits = pd.concat(fits)\n",
    "fgs = pd.concat(fgs)\n",
    "fphis = pd.concat(fphis)\n",
    "\n",
    "softplus = lambda x: np.log1p(np.exp(x))\n",
    "sigmoid = lambda x: 1/(1 + np.exp(-x)) \n",
    "\n",
    "fits['alpha_g_s'] = softplus(fits['alpha_g'])\n",
    "fits['alpha_phi_s'] = softplus(fits['alpha_phi'])\n",
    "fits['offset_g_s'] = softplus(fits['offset_g'])\n",
    "fits['offset_g'] = fits['offset_g']\n",
    "fits['offset_phi_s'] = np.arcsin(sigmoid(fits['offset_phi']))"
   ]
  },
  {
   "cell_type": "markdown",
   "metadata": {},
   "source": [
    "These samples can be used to generate all results in the paper"
   ]
  },
  {
   "cell_type": "code",
   "execution_count": null,
   "metadata": {},
   "outputs": [],
   "source": [
    "fits.to_csv(os.path.join(full_path,'data','processed','fits_2.csv'))\n",
    "fgs.to_csv(os.path.join(full_path,'data','processed','fgs_2.csv'))\n",
    "fphis.to_csv(os.path.join(full_path,'data','processed','fphis_2.csv'))"
   ]
  }
 ],
 "metadata": {
  "kernelspec": {
   "display_name": "stan",
   "language": "python",
   "name": "python3"
  },
  "language_info": {
   "codemirror_mode": {
    "name": "ipython",
    "version": 3
   },
   "file_extension": ".py",
   "mimetype": "text/x-python",
   "name": "python",
   "nbconvert_exporter": "python",
   "pygments_lexer": "ipython3",
   "version": "3.7.10"
  }
 },
 "nbformat": 4,
 "nbformat_minor": 2
}
